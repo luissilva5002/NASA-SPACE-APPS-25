{
 "cells": [
  {
   "cell_type": "raw",
   "id": "1b9d9355-cc69-4f08-9db2-d784a62fd84e",
   "metadata": {},
   "source": [
    "Model"
   ]
  },
  {
   "cell_type": "code",
   "execution_count": null,
   "id": "68ac77f0-e3a4-438f-8252-65c86735697e",
   "metadata": {},
   "outputs": [],
   "source": [
    "import tensorflow as tf\n",
    "from tensorflow.keras.models import Model\n",
    "from tensorflow.keras.layers import Input, Dense\n",
    "from tensorflow.keras.optimizers import Adam\n",
    "\n",
    "# Example number of species in your dataset\n",
    "num_species = 3  # Replace with the real number of species\n",
    "\n",
    "# Input layer\n",
    "inputs = Input(shape=(2,), name='env_inputs')  # Temp and Phytoplankton\n",
    "\n",
    "# Shared hidden layers\n",
    "x = Dense(32, activation='relu')(inputs)\n",
    "x = Dense(32, activation='relu')(x)\n",
    "\n",
    "# Output 1: Hunting area (binary)\n",
    "hunting_output = Dense(1, activation='sigmoid', name='hunting_area')(x)\n",
    "\n",
    "# Output 2: Species probabilities (multi-output regression/probabilities)\n",
    "species_output = Dense(num_species, activation='sigmoid', name='species_probs')(x)\n",
    "\n",
    "# Model\n",
    "model = Model(inputs=inputs, outputs=[hunting_output, species_output])\n",
    "\n",
    "# Compile with multi-task losses\n",
    "model.compile(\n",
    "    optimizer=Adam(learning_rate=0.001),\n",
    "    loss={\n",
    "        'hunting_area': 'binary_crossentropy',\n",
    "        'species_probs': 'mse'  # Could also try 'mae'\n",
    "    },\n",
    "    metrics={\n",
    "        'hunting_area': ['accuracy'],\n",
    "        'species_probs': ['mae']\n",
    "    }\n",
    ")\n",
    "\n",
    "model.summary()\n"
   ]
  },
  {
   "cell_type": "code",
   "execution_count": null,
   "id": "19f9e10f-c4e4-4d41-9282-86629a06acd3",
   "metadata": {},
   "outputs": [],
   "source": [
    "import pandas as pd\n",
    "import numpy as np\n",
    "\n",
    "# Inputs\n",
    "X = df[['Temp', 'Phytoplankton']].values\n",
    "\n",
    "# Outputs\n",
    "y_hunting = df['Hunting_area'].values\n",
    "y_species = df[['Great_White', 'Tiger', 'Bull']].values  # Replace with your species columns\n",
    "\n",
    "# Train/test split\n",
    "from sklearn.model_selection import train_test_split\n",
    "X_train, X_test, y_h_train, y_h_test, y_s_train, y_s_test = train_test_split(\n",
    "    X, y_hunting, y_species, test_size=0.2, random_state=42\n",
    ")\n",
    "\n",
    "# Train the model\n",
    "history = model.fit(\n",
    "    X_train,\n",
    "    {'hunting_area': y_h_train, 'species_probs': y_s_train},\n",
    "    validation_data=(X_test, {'hunting_area': y_h_test, 'species_probs': y_s_test}),\n",
    "    epochs=50,\n",
    "    batch_size=32\n",
    ")\n"
   ]
  },
  {
   "cell_type": "code",
   "execution_count": null,
   "id": "6027968c-2895-49c3-858e-525d2e3df03f",
   "metadata": {},
   "outputs": [],
   "source": [
    "# Convert to TFLite\n",
    "converter = tf.lite.TFLiteConverter.from_keras_model(model)\n",
    "tflite_model = converter.convert()\n",
    "\n",
    "# Save TFLite file\n",
    "with open(\"shark_model.tflite\", \"wb\") as f:\n",
    "    f.write(tflite_model)\n"
   ]
  }
 ],
 "metadata": {
  "kernelspec": {
   "display_name": "Python 3 (ipykernel)",
   "language": "python",
   "name": "python3"
  },
  "language_info": {
   "codemirror_mode": {
    "name": "ipython",
    "version": 3
   },
   "file_extension": ".py",
   "mimetype": "text/x-python",
   "name": "python",
   "nbconvert_exporter": "python",
   "pygments_lexer": "ipython3",
   "version": "3.13.7"
  }
 },
 "nbformat": 4,
 "nbformat_minor": 5
}
